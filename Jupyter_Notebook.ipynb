{
 "cells": [
  {
   "cell_type": "markdown",
   "metadata": {},
   "source": [
    "<center>\n",
    "    <img src=\"https://cf-courses-data.s3.us.cloud-object-storage.appdomain.cloud/IBMDeveloperSkillsNetwork-DS0105EN-SkillsNetwork/labs/Module2/images/SN_web_lightmode.png\" width=\"300\" alt=\"cognitiveclass.ai logo\">\n",
    "</center>\n"
   ]
  },
  {
   "cell_type": "markdown",
   "metadata": {},
   "source": [
    "#### Add your code below following the instructions given in the course\n"
   ]
  },
  {
   "cell_type": "markdown",
   "metadata": {},
   "source": [
    "<h1>Ioannis Jupyter Notebook</h1>"
   ]
  },
  {
   "cell_type": "markdown",
   "metadata": {},
   "source": [
    "A summary about Data science"
   ]
  },
  {
   "cell_type": "markdown",
   "metadata": {},
   "source": [
    "Popular Data science Languages:\n",
    "<ol>\n",
    "  <li>Python</li>\n",
    "  <li>R</li>\n",
    "  <li>SQL</li>\n",
    "    <li>Java</li>\n",
    "    <li>Julia</li>\n",
    "    <li>Scala</li>\n",
    "    <li>Java Script</li>\n",
    "    <li>C / C++</li>\n",
    "    \n",
    "    \n",
    "</ol>  "
   ]
  },
  {
   "cell_type": "markdown",
   "metadata": {},
   "source": [
    "Popular Libraries:\n",
    "<ol>\n",
    "  <li>TensorFlow</li>\n",
    "  <li>NumPy</li>\n",
    "  <li>Pandas</li>\n",
    "    <li>Matplotlib </li>\n",
    "    <li>Keras</li>\n",
    "    <li>SciPy </li>\n",
    "    <li>PyTorch</li>\n",
    "    <li>Scrapy</li>\n",
    "    \n",
    "    \n",
    "</ol>  "
   ]
  },
  {
   "cell_type": "markdown",
   "metadata": {},
   "source": [
    "Some Data Science Tools\n",
    "\n",
    "\n",
    "<table align=\"left\">\n",
    "  <tr>\n",
    "    <th>Data Science Tools</th>\n",
    "    \n",
    "  </tr>\n",
    "  <tr>\n",
    "    <td>SAS</td>\n",
    "    \n",
    "  </tr>\n",
    "  <tr>\n",
    "    <td>IBM SPSS</td>\n",
    "   \n",
    "  </tr>\n",
    "     <tr>\n",
    "    <td>Apache Spark</td>\n",
    "   \n",
    "  </tr>\n",
    "     <tr>\n",
    "    <td>Jupyter Notebook</td>\n",
    "   \n",
    "  </tr>\n",
    "    <tr>\n",
    "    <td>IBM Watson</td>\n",
    "   \n",
    "  </tr>\n",
    "    \n",
    "    \n",
    "</table>\n",
    "\n"
   ]
  },
  {
   "cell_type": "markdown",
   "metadata": {},
   "source": [
    "arithmetic expression examples"
   ]
  },
  {
   "cell_type": "code",
   "execution_count": 16,
   "metadata": {},
   "outputs": [
    {
     "name": "stdout",
     "output_type": "stream",
     "text": [
      "sum = 8\n",
      "prod = 15\n"
     ]
    }
   ],
   "source": [
    "#multiply and add numbers\n",
    "\n",
    "def mysum(a, b):\n",
    "    print(\"sum =\", a + b)\n",
    "    print(\"prod =\", a * b)\n",
    "\n",
    "mysum(3, 5)"
   ]
  },
  {
   "cell_type": "code",
   "execution_count": 34,
   "metadata": {},
   "outputs": [
    {
     "name": "stdout",
     "output_type": "stream",
     "text": [
      "minutes= 240\n",
      "hours= 4.0\n"
     ]
    }
   ],
   "source": [
    "#convert minutes to hours\n",
    "\n",
    "def mintohr(a):\n",
    "    b = a/60\n",
    "    print(\"minutes=\", a)\n",
    "    print(\"hours=\", b)\n",
    "\n",
    "mintohr(240)\n"
   ]
  },
  {
   "cell_type": "markdown",
   "metadata": {},
   "source": [
    "Objectives\n",
    "<ul>\n",
    "  <li>Learn to Build Models</li>\n",
    "  <li>Improve in Coding</li>\n",
    "</ul>  "
   ]
  },
  {
   "cell_type": "markdown",
   "metadata": {},
   "source": [
    "<h3> Author : Ioannis Konstantinidis </h3>"
   ]
  },
  {
   "cell_type": "code",
   "execution_count": null,
   "metadata": {},
   "outputs": [],
   "source": []
  }
 ],
 "metadata": {
  "kernelspec": {
   "display_name": "Python",
   "language": "python",
   "name": "conda-env-python-py"
  },
  "language_info": {
   "codemirror_mode": {
    "name": "ipython",
    "version": 3
   },
   "file_extension": ".py",
   "mimetype": "text/x-python",
   "name": "python",
   "nbconvert_exporter": "python",
   "pygments_lexer": "ipython3",
   "version": "3.7.12"
  }
 },
 "nbformat": 4,
 "nbformat_minor": 4
}
